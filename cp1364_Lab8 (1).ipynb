{
  "cells": [
    {
      "cell_type": "markdown",
      "metadata": {
        "id": "_xpNHFgYcj16"
      },
      "source": [
        "# Diamond Company Analytics Challenge\n",
        "\n",
        "**Time:** 35 minutes\n",
        "\n",
        "**Scenario:** You are the new data analyst at a prestigious diamond company. The CEO has called an urgent meeting and needs answers to critical business questions about the inventory.\n",
        "\n",
        "**Your Mission:** Analyze the diamond inventory data and provide insights to guide strategic decisions."
      ]
    },
    {
      "cell_type": "code",
      "execution_count": 3,
      "metadata": {
        "colab": {
          "base_uri": "https://localhost:8080/"
        },
        "id": "S45AeTMHcj17",
        "outputId": "1462fff9-a84d-45ef-8005-e6e283f21f52"
      },
      "outputs": [
        {
          "output_type": "stream",
          "name": "stdout",
          "text": [
            "Loading diamonds dataset...\n",
            "Dataset loaded successfully!\n"
          ]
        }
      ],
      "source": [
        "import polars as pl\n",
        "\n",
        "# Load the diamonds dataset\n",
        "print(\"Loading diamonds dataset...\")\n",
        "df = pl.read_csv('https://raw.githubusercontent.com/pycaret/pycaret/master/datasets/diamond.csv')\n",
        "print(\"Dataset loaded successfully!\")"
      ]
    },
    {
      "cell_type": "markdown",
      "metadata": {
        "id": "9bfrt_3Acj18"
      },
      "source": [
        "## Section 1: Initial Inventory Assessment (5 minutes)\n",
        "\n",
        "The CEO walks in: \"Before we dive into specifics, I need to understand what we're working with. Give me the basics about our inventory database.\""
      ]
    },
    {
      "cell_type": "markdown",
      "metadata": {
        "id": "vbtR_muVcj18"
      },
      "source": [
        "### Question 1: \"How extensive is our inventory database?\"\n",
        "\n",
        "The CEO needs to know the scale of data you're analyzing."
      ]
    },
    {
      "cell_type": "code",
      "execution_count": 4,
      "metadata": {
        "colab": {
          "base_uri": "https://localhost:8080/"
        },
        "id": "h_c1y3r0cj19",
        "outputId": "8d7491c1-d261-450f-bbe7-031cef26e482"
      },
      "outputs": [
        {
          "output_type": "stream",
          "name": "stdout",
          "text": [
            "Shape: (6000, 8)\n"
          ]
        }
      ],
      "source": [
        "# Your code here:\n",
        "print(f\"Shape: {df.shape}\")\n"
      ]
    },
    {
      "cell_type": "markdown",
      "metadata": {
        "id": "A1h9i7tJcj19"
      },
      "source": [
        "### Question 2: \"What information do we track about each diamond?\"\n",
        "\n",
        "List all the characteristics we record."
      ]
    },
    {
      "cell_type": "code",
      "execution_count": 5,
      "metadata": {
        "colab": {
          "base_uri": "https://localhost:8080/"
        },
        "id": "WEIi7Lc1cj19",
        "outputId": "2f9fd6c6-89f9-4dcd-aa65-d178692cea28"
      },
      "outputs": [
        {
          "output_type": "stream",
          "name": "stdout",
          "text": [
            "Columns: ['Carat Weight', 'Cut', 'Color', 'Clarity', 'Polish', 'Symmetry', 'Report', 'Price']\n"
          ]
        }
      ],
      "source": [
        "# Your code here:\n",
        "print(f\"Columns: {df.columns}\")"
      ]
    },
    {
      "cell_type": "markdown",
      "metadata": {
        "id": "evFavraIcj1-"
      },
      "source": [
        "### Question 3: \"When I look at one line in this database, what am I looking at?\"\n",
        "\n",
        "Explain in business terms:"
      ]
    },
    {
      "cell_type": "markdown",
      "metadata": {
        "id": "DTeAbKJfcj1-"
      },
      "source": [
        "**Your answer:** Each row represents: One diamond"
      ]
    },
    {
      "cell_type": "markdown",
      "metadata": {
        "id": "EuXCLVhgcj1-"
      },
      "source": [
        "## Section 2: Strategic Business Questions (20 minutes)\n",
        "\n",
        "The CEO continues: \"Now let's get to the important questions. Our board meeting is tomorrow and I need concrete numbers.\""
      ]
    },
    {
      "cell_type": "markdown",
      "metadata": {
        "id": "exRVrHMacj1_"
      },
      "source": [
        "### Question 4: \"We're considering expanding our storage facilities. How many total carats do we have in inventory? I need to know if our vaults can handle the weight.\"\n",
        "\n",
        "Think about what measurement would help answer this."
      ]
    },
    {
      "cell_type": "code",
      "execution_count": 15,
      "metadata": {
        "colab": {
          "base_uri": "https://localhost:8080/"
        },
        "id": "9UGkByDicj1_",
        "outputId": "b690a3c8-6e92-4059-d920-09c8ecb478a0"
      },
      "outputs": [
        {
          "output_type": "stream",
          "name": "stdout",
          "text": [
            "Total carats in inventory: 8007.120000000001\n"
          ]
        }
      ],
      "source": [
        "# Your code here:\n",
        "total_carats = df[\"Carat Weight\"].sum()\n",
        "print(f\"Total carats in inventory: {total_carats}\")"
      ]
    },
    {
      "cell_type": "markdown",
      "metadata": {
        "id": "YKERoZbzcj1_"
      },
      "source": [
        "### Question 5: \"Our new marketing campaign claims we have 'the widest variety of cuts in the industry.' Can you verify this?\"\n",
        "\n",
        "The CEO wants to know about variety, not quantity."
      ]
    },
    {
      "cell_type": "code",
      "execution_count": 17,
      "metadata": {
        "colab": {
          "base_uri": "https://localhost:8080/"
        },
        "id": "fXcvnQuScj1_",
        "outputId": "47421906-5841-4ae3-c338-66734f8f4bda"
      },
      "outputs": [
        {
          "output_type": "stream",
          "name": "stdout",
          "text": [
            "We have 5 unique cut types in our inventory.\n"
          ]
        }
      ],
      "source": [
        "# Your code here:\n",
        "unique_cuts = df[\"Cut\"].n_unique()\n",
        "print(f\"We have {unique_cuts} unique cut types in our inventory.\")"
      ]
    },
    {
      "cell_type": "markdown",
      "metadata": {
        "id": "Ft69PDRycj1_"
      },
      "source": [
        "### Question 6: \"I'm meeting with our insurance company. They need to know our price exposure - what's our most and least valuable diamond?\""
      ]
    },
    {
      "cell_type": "code",
      "execution_count": 19,
      "metadata": {
        "colab": {
          "base_uri": "https://localhost:8080/"
        },
        "id": "Kqmryantcj1_",
        "outputId": "56cf3021-0303-485a-f4c1-beccb460d8ee"
      },
      "outputs": [
        {
          "output_type": "stream",
          "name": "stdout",
          "text": [
            "Most valuable diamond:\n",
            " shape: (1, 8)\n",
            "┌──────────────┬───────┬───────┬─────────┬────────┬──────────┬────────┬────────┐\n",
            "│ Carat Weight ┆ Cut   ┆ Color ┆ Clarity ┆ Polish ┆ Symmetry ┆ Report ┆ Price  │\n",
            "│ ---          ┆ ---   ┆ ---   ┆ ---     ┆ ---    ┆ ---      ┆ ---    ┆ ---    │\n",
            "│ f64          ┆ str   ┆ str   ┆ str     ┆ str    ┆ str      ┆ str    ┆ i64    │\n",
            "╞══════════════╪═══════╪═══════╪═════════╪════════╪══════════╪════════╪════════╡\n",
            "│ 2.79         ┆ Ideal ┆ D     ┆ IF      ┆ EX     ┆ EX       ┆ GIA    ┆ 101561 │\n",
            "└──────────────┴───────┴───────┴─────────┴────────┴──────────┴────────┴────────┘\n",
            "\n",
            "Least valuable diamond:\n",
            " shape: (1, 8)\n",
            "┌──────────────┬──────┬───────┬─────────┬────────┬──────────┬────────┬───────┐\n",
            "│ Carat Weight ┆ Cut  ┆ Color ┆ Clarity ┆ Polish ┆ Symmetry ┆ Report ┆ Price │\n",
            "│ ---          ┆ ---  ┆ ---   ┆ ---     ┆ ---    ┆ ---      ┆ ---    ┆ ---   │\n",
            "│ f64          ┆ str  ┆ str   ┆ str     ┆ str    ┆ str      ┆ str    ┆ i64   │\n",
            "╞══════════════╪══════╪═══════╪═════════╪════════╪══════════╪════════╪═══════╡\n",
            "│ 0.77         ┆ Good ┆ I     ┆ VS1     ┆ VG     ┆ G        ┆ AGSL   ┆ 2184  │\n",
            "└──────────────┴──────┴───────┴─────────┴────────┴──────────┴────────┴───────┘\n"
          ]
        }
      ],
      "source": [
        "# Your code here:\n",
        "\n",
        "most_valuable = df.sort(\"Price\", descending=True).head(1)\n",
        "print(\"Most valuable diamond:\\n\", most_valuable)\n",
        "\n",
        "\n",
        "least_valuable = df.sort(\"Price\").head(1)\n",
        "print(\"\\nLeast valuable diamond:\\n\", least_valuable)"
      ]
    },
    {
      "cell_type": "markdown",
      "metadata": {
        "id": "uWMxGjfNcj2A"
      },
      "source": [
        "### Question 7: \"Which color grades should we focus on in our premium line? I need typical prices across our color spectrum.\"\n",
        "\n",
        "The CEO wants to understand pricing patterns."
      ]
    },
    {
      "cell_type": "code",
      "execution_count": 21,
      "metadata": {
        "colab": {
          "base_uri": "https://localhost:8080/"
        },
        "id": "IDZxPvfvcj2A",
        "outputId": "7abe1084-cfbe-42e2-fa27-ad44cb5fe873"
      },
      "outputs": [
        {
          "output_type": "stream",
          "name": "stdout",
          "text": [
            "Average price per color grade:\n",
            " shape: (6, 2)\n",
            "┌───────┬──────────────┐\n",
            "│ Color ┆ Price        │\n",
            "│ ---   ┆ ---          │\n",
            "│ str   ┆ f64          │\n",
            "╞═══════╪══════════════╡\n",
            "│ D     ┆ 15255.783661 │\n",
            "│ F     ┆ 12712.241856 │\n",
            "│ G     ┆ 12520.050633 │\n",
            "│ E     ┆ 11539.190231 │\n",
            "│ H     ┆ 10487.347544 │\n",
            "│ I     ┆ 8989.636364  │\n",
            "└───────┴──────────────┘\n"
          ]
        }
      ],
      "source": [
        "# Your code here:\n",
        "avg_price_by_color = df.group_by(\"Color\").agg(pl.col(\"Price\").mean()).sort(\"Price\", descending=True)\n",
        "print(\"Average price per color grade:\\n\", avg_price_by_color)"
      ]
    },
    {
      "cell_type": "markdown",
      "metadata": {
        "id": "UpNKOwtNcj2A"
      },
      "source": [
        "**Reflection:** After analyzing by color, how has your view of the data changed? What does each row in your result represent now?"
      ]
    },
    {
      "cell_type": "markdown",
      "metadata": {
        "id": "fJyVGuKFcj2A"
      },
      "source": [
        "**Your answer:** New grain = The value of each diamond"
      ]
    },
    {
      "cell_type": "markdown",
      "metadata": {
        "id": "s74SE4Xncj2A"
      },
      "source": [
        "## Section 3: Advanced Strategic Analysis (10 minutes)\n",
        "\n",
        "The CEO leans forward: \"These next questions will shape our strategy for next year.\""
      ]
    },
    {
      "cell_type": "markdown",
      "metadata": {
        "id": "hyLkOhhucj2A"
      },
      "source": [
        "### Question 8: \"We're thinking of specializing in certain clarity grades. For our investor deck, I need a complete breakdown showing: how many diamonds we have in each clarity grade, their typical price, and the total carats we're holding for each grade.\""
      ]
    },
    {
      "cell_type": "code",
      "execution_count": 23,
      "metadata": {
        "colab": {
          "base_uri": "https://localhost:8080/"
        },
        "id": "mRqlmUgScj2A",
        "outputId": "8b134b59-3f4d-4dc3-f521-799399ce394d"
      },
      "outputs": [
        {
          "output_type": "stream",
          "name": "stdout",
          "text": [
            "shape: (7, 4)\n",
            "┌─────────┬───────┬───────────────┬──────────────┐\n",
            "│ Clarity ┆ Count ┆ Typical_Price ┆ Total_Carats │\n",
            "│ ---     ┆ ---   ┆ ---           ┆ ---          │\n",
            "│ str     ┆ u32   ┆ f64           ┆ f64          │\n",
            "╞═════════╪═══════╪═══════════════╪══════════════╡\n",
            "│ FL      ┆ 4     ┆ 63776.0       ┆ 7.87         │\n",
            "│ IF      ┆ 219   ┆ 22105.844749  ┆ 316.0        │\n",
            "│ VVS1    ┆ 285   ┆ 16845.680702  ┆ 389.43       │\n",
            "│ VVS2    ┆ 666   ┆ 14142.177177  ┆ 876.58       │\n",
            "│ VS1     ┆ 1192  ┆ 13694.113255  ┆ 1682.74      │\n",
            "│ VS2     ┆ 1575  ┆ 11809.053333  ┆ 2170.81      │\n",
            "│ SI1     ┆ 2059  ┆ 8018.864012   ┆ 2563.69      │\n",
            "└─────────┴───────┴───────────────┴──────────────┘\n"
          ]
        }
      ],
      "source": [
        "# Your code here:\n",
        "clarity_summary = (\n",
        "    df.group_by(\"Clarity\")\n",
        "    .agg([\n",
        "        pl.count(\"Price\").alias(\"Count\"),          # number of diamonds\n",
        "        pl.mean(\"Price\").alias(\"Typical_Price\"),  # average price\n",
        "        pl.sum(\"Carat Weight\").alias(\"Total_Carats\") # total carats\n",
        "    ])\n",
        "    .sort(\"Typical_Price\", descending=True)\n",
        ")\n",
        "\n",
        "print(clarity_summary)"
      ]
    },
    {
      "cell_type": "markdown",
      "metadata": {
        "id": "QWLnzUGicj2A"
      },
      "source": [
        "### Question 9: \"My luxury competitor claims they have the best prices for every cut-color combination. Show me our pricing structure across these combinations - I want to see where we're competitive.\""
      ]
    },
    {
      "cell_type": "code",
      "execution_count": 25,
      "metadata": {
        "colab": {
          "base_uri": "https://localhost:8080/"
        },
        "id": "0tbksS2zcj2A",
        "outputId": "6c584ec8-9cde-49f0-d760-f2bfe35f282c"
      },
      "outputs": [
        {
          "output_type": "stream",
          "name": "stdout",
          "text": [
            "shape: (5, 7)\n",
            "┌──────────────┬─────────────┬─────────────┬─────────────┬─────────────┬─────────────┬─────────────┐\n",
            "│ Cut          ┆ F           ┆ G           ┆ I           ┆ H           ┆ D           ┆ E           │\n",
            "│ ---          ┆ ---         ┆ ---         ┆ ---         ┆ ---         ┆ ---         ┆ ---         │\n",
            "│ str          ┆ f64         ┆ f64         ┆ f64         ┆ f64         ┆ f64         ┆ f64         │\n",
            "╞══════════════╪═════════════╪═════════════╪═════════════╪═════════════╪═════════════╪═════════════╡\n",
            "│ Good         ┆ 9274.007519 ┆ 9988.614865 ┆ 8174.113043 ┆ 9535.132812 ┆ 10058.71621 ┆ 8969.545455 │\n",
            "│              ┆             ┆             ┆             ┆             ┆ 6           ┆             │\n",
            "│ Signature-Id ┆ 13247.94736 ┆ 10248.29687 ┆ 8823.463415 ┆ 9112.688889 ┆ 19823.1     ┆ 11261.91428 │\n",
            "│ eal          ┆ 8           ┆ 5           ┆             ┆             ┆             ┆ 6           │\n",
            "│ Ideal        ┆ 14729.42699 ┆ 13570.31014 ┆ 9459.588378 ┆ 11527.70087 ┆ 18461.95357 ┆ 12647.10791 │\n",
            "│              ┆ 7           ┆ 5           ┆             ┆ 3           ┆ 1           ┆ 4           │\n",
            "│ Very Good    ┆ 12413.90549 ┆ 12354.01384 ┆ 8930.031332 ┆ 10056.10613 ┆ 13218.82641 ┆ 12101.91021 │\n",
            "│              ┆ 5           ┆ 1           ┆             ┆ 2           ┆ 5           ┆ 7           │\n",
            "│ Fair         ┆ 6063.625    ┆ 7345.52381  ┆ 4573.1875   ┆ 5908.5      ┆ 6058.25     ┆ 5370.625    │\n",
            "└──────────────┴─────────────┴─────────────┴─────────────┴─────────────┴─────────────┴─────────────┘\n"
          ]
        },
        {
          "output_type": "stream",
          "name": "stderr",
          "text": [
            "/tmp/ipython-input-3217327484.py:5: DeprecationWarning: The argument `columns` for `DataFrame.pivot` is deprecated. It has been renamed to `on`.\n",
            "  .pivot(values=\"Average_Price\", index=\"Cut\", columns=\"Color\")\n"
          ]
        }
      ],
      "source": [
        "# Your code here:\n",
        "pricing_structure = (\n",
        "    df.group_by([\"Cut\", \"Color\"])\n",
        "    .agg(pl.mean(\"Price\").alias(\"Average_Price\"))\n",
        "    .pivot(values=\"Average_Price\", index=\"Cut\", columns=\"Color\")\n",
        ")\n",
        "\n",
        "print(pricing_structure)"
      ]
    },
    {
      "cell_type": "markdown",
      "metadata": {
        "id": "1WuesGY6cj2A"
      },
      "source": [
        "**Reflection:** How specific is your analysis now? What level of detail does each row represent?"
      ]
    },
    {
      "cell_type": "markdown",
      "metadata": {
        "id": "qF0wnLNWcj2B"
      },
      "source": [
        "**Your answer:** New grain = price structure per diamond"
      ]
    },
    {
      "cell_type": "markdown",
      "metadata": {
        "id": "axcfZdqUcj2B"
      },
      "source": [
        "### Question 10: URGENT - \"Our biggest client is interested in purchasing entire inventory segments. They asked: 'Which color-cut combinations represent your highest total inventory value?' Show me the top 5 most valuable inventory segments by total worth, and include how many diamonds are in each segment.\"\n",
        "\n",
        "This is critical for tomorrow's negotiation."
      ]
    },
    {
      "cell_type": "code",
      "execution_count": 27,
      "metadata": {
        "colab": {
          "base_uri": "https://localhost:8080/"
        },
        "id": "-AlE1jljcj2B",
        "outputId": "55c17b89-1d36-423d-92eb-15a7e138ddd4"
      },
      "outputs": [
        {
          "output_type": "stream",
          "name": "stdout",
          "text": [
            "shape: (5, 4)\n",
            "┌───────┬───────────┬─────────────┬───────┐\n",
            "│ Color ┆ Cut       ┆ Total_Value ┆ Count │\n",
            "│ ---   ┆ ---       ┆ ---         ┆ ---   │\n",
            "│ str   ┆ str       ┆ i64         ┆ u32   │\n",
            "╞═══════╪═══════════╪═════════════╪═══════╡\n",
            "│ G     ┆ Ideal     ┆ 9363514     ┆ 690   │\n",
            "│ G     ┆ Very Good ┆ 7140620     ┆ 578   │\n",
            "│ F     ┆ Very Good ┆ 5648327     ┆ 455   │\n",
            "│ F     ┆ Ideal     ┆ 5346782     ┆ 363   │\n",
            "│ H     ┆ Ideal     ┆ 5279687     ┆ 458   │\n",
            "└───────┴───────────┴─────────────┴───────┘\n"
          ]
        }
      ],
      "source": [
        "# Your code here:\n",
        "segment_value = (\n",
        "    df.group_by([\"Color\", \"Cut\"])\n",
        "    .agg([\n",
        "        pl.sum(\"Price\").alias(\"Total_Value\"),  # total price\n",
        "        pl.count(\"Price\").alias(\"Count\")       # number of diamonds\n",
        "    ])\n",
        "    .sort(\"Total_Value\", descending=True)\n",
        "    .head(5)\n",
        ")\n",
        "\n",
        "print(segment_value)"
      ]
    },
    {
      "cell_type": "markdown",
      "metadata": {
        "id": "fNanQFA7cj2B"
      },
      "source": [
        "## Debrief\n",
        "\n",
        "Congratulations! You've just completed your first day as the diamond company's data analyst.\n",
        "\n",
        "Remember:\n",
        "- CEOs speak in business language, not technical terms\n",
        "- Always understand what each row represents before analyzing\n",
        "- Business questions contain clues about which operations to use"
      ]
    }
  ],
  "metadata": {
    "kernelspec": {
      "display_name": "Python 3",
      "language": "python",
      "name": "python3"
    },
    "language_info": {
      "codemirror_mode": {
        "name": "ipython",
        "version": 3
      },
      "file_extension": ".py",
      "mimetype": "text/x-python",
      "name": "python",
      "nbconvert_exporter": "python",
      "pygments_lexer": "ipython3",
      "version": "3.12.0"
    },
    "colab": {
      "provenance": []
    }
  },
  "nbformat": 4,
  "nbformat_minor": 0
}